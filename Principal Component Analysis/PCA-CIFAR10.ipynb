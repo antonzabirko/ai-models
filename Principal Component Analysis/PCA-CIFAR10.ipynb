{
 "cells": [
  {
   "cell_type": "code",
   "execution_count": 36,
   "metadata": {
    "collapsed": true,
    "pycharm": {
     "is_executing": false
    }
   },
   "outputs": [],
   "source": [
    "\n",
    "## Imports\n",
    "import keras\n",
    "import matplotlib\n",
    "import sklearn\n",
    "\n",
    "import numpy as np\n",
    "import pandas as pd\n",
    "import seaborn as sns\n",
    "\n",
    "from keras.datasets import cifar10\n",
    "from matplotlib import pyplot as plt\n",
    "from sklearn.preprocessing import StandardScaler\n",
    "from sklearn.decomposition import PCA\n"
   ]
  },
  {
   "cell_type": "code",
   "execution_count": 2,
   "metadata": {
    "pycharm": {
     "is_executing": false,
     "name": "#%%\n"
    }
   },
   "outputs": [],
   "source": [
    "\n",
    "# Load the data\n",
    "(x_train, y_train), (x_test, y_test) = cifar10.load_data()\n"
   ]
  },
  {
   "cell_type": "code",
   "execution_count": 3,
   "metadata": {
    "pycharm": {
     "is_executing": false,
     "name": "#%%\n"
    }
   },
   "outputs": [
    {
     "name": "stdout",
     "text": [
      "Training data shape: {} (50000, 32, 32, 3)\nTraining labels shape: {} (50000, 1)\nTesting data shape: {} (10000, 32, 32, 3)\nTesting labels shape: {} (10000, 1)\n"
     ],
     "output_type": "stream"
    }
   ],
   "source": [
    "\n",
    "# Visualize the data\n",
    "print(\"Training data shape: {}\", x_train.shape)\n",
    "print(\"Training labels shape: {}\", y_train.shape)\n",
    "print(\"Testing data shape: {}\", x_test.shape)\n",
    "print(\"Testing labels shape: {}\", y_test.shape)\n"
   ]
  },
  {
   "cell_type": "code",
   "execution_count": 4,
   "metadata": {
    "pycharm": {
     "is_executing": false,
     "name": "#%%\n"
    }
   },
   "outputs": [
    {
     "name": "stdout",
     "text": [
      "Total number of classes: 10\nOutput classes: [0 1 2 3 4 5 6 7 8 9]\n"
     ],
     "output_type": "stream"
    }
   ],
   "source": [
    "\n",
    "# Find and display labels\n",
    "classes = np.unique(y_train)\n",
    "nClasses = len(classes)\n",
    "print('Total number of classes:', nClasses)\n",
    "print('Output classes:', classes)\n"
   ]
  },
  {
   "cell_type": "code",
   "execution_count": 5,
   "metadata": {
    "pycharm": {
     "is_executing": false,
     "name": "#%%\n"
    }
   },
   "outputs": [],
   "source": [
    "\n",
    "# Create a dictionary to correspond class names with categorical class labels\n",
    "labels = {\n",
    "    0: 'airplane',\n",
    "    1: 'automobile',\n",
    "    2: 'bird',\n",
    "    3: 'cat',\n",
    "    4: 'deer',\n",
    "    5: 'dog',\n",
    "    6: 'frog',\n",
    "    7: 'horse',\n",
    "    8: 'ship',\n",
    "    9: 'truck'\n",
    "}\n"
   ]
  },
  {
   "cell_type": "code",
   "execution_count": 6,
   "metadata": {
    "pycharm": {
     "is_executing": false,
     "name": "#%%\n"
    }
   },
   "outputs": [
    {
     "data": {
      "text/plain": "Text(0.5, 1.0, '(Label: cat)')"
     },
     "metadata": {},
     "output_type": "execute_result",
     "execution_count": 6
    },
    {
     "data": {
      "text/plain": "<Figure size 360x360 with 2 Axes>",
      "image/png": "[encoded data removed]"
     },
     "metadata": {
      "needs_background": "light"
     },
     "output_type": "display_data"
    }
   ],
   "source": [
    "\n",
    "# Plot the data\n",
    "plt.figure(figsize = [5, 5])\n",
    "\n",
    "# Display the first image from training data\n",
    "plt.subplot(121)\n",
    "image = np.reshape(x_train[0], (32, 32, 3))\n",
    "plt.imshow(image)\n",
    "plt.title('(Label: ' + str(labels[y_train[0][0]]) + ')')\n",
    "\n",
    "# Display the first image from testing data\n",
    "plt.subplot(122)\n",
    "image = np.reshape(x_test[0], (32, 32, 3))\n",
    "plt.imshow(image)\n",
    "plt.title('(Label: ' + str(labels[y_test[0][0]]) + ')')\n"
   ]
  },
  {
   "cell_type": "code",
   "execution_count": 7,
   "metadata": {
    "pycharm": {
     "is_executing": false,
     "name": "#%%\n"
    }
   },
   "outputs": [],
   "source": [
    "\n",
    "# Normalize the data by dividing by the pixel RGB range\n",
    "x_train = x_train / 255.0\n"
   ]
  },
  {
   "cell_type": "code",
   "execution_count": 8,
   "metadata": {
    "pycharm": {
     "name": "#%%\n",
     "is_executing": false
    }
   },
   "outputs": [],
   "source": [
    "\n",
    "# Reshape dimensions from 3 --> 1 (flatten)\n",
    "x_train_flat = x_train.reshape(-1, 3072)\n"
   ]
  },
  {
   "cell_type": "code",
   "execution_count": 9,
   "outputs": [],
   "source": [
    "\n",
    "# Create labels for each pixel\n",
    "feature_cols = ['pixel' + str(i) for i in range(x_train_flat.shape[1])]\n"
   ],
   "metadata": {
    "collapsed": false,
    "pycharm": {
     "name": "#%%\n",
     "is_executing": false
    }
   }
  },
  {
   "cell_type": "code",
   "execution_count": 12,
   "outputs": [],
   "source": [
    "\n",
    "# Create a DataFrame with the flattened data and generated pixel features\n",
    "cifar_df = pd.DataFrame(x_train_flat, columns = feature_cols)\n"
   ],
   "metadata": {
    "collapsed": false,
    "pycharm": {
     "name": "#%%\n",
     "is_executing": false
    }
   }
  },
  {
   "cell_type": "code",
   "execution_count": 13,
   "outputs": [
    {
     "data": {
      "text/plain": "     pixel0    pixel1    pixel2    pixel3    pixel4    pixel5    pixel6  \\\n0  0.231373  0.243137  0.247059  0.168627  0.180392  0.176471  0.196078   \n1  0.603922  0.694118  0.733333  0.494118  0.537255  0.533333  0.411765   \n2  1.000000  1.000000  1.000000  0.992157  0.992157  0.992157  0.992157   \n3  0.109804  0.098039  0.039216  0.145098  0.133333  0.074510  0.149020   \n4  0.666667  0.705882  0.776471  0.658824  0.698039  0.768627  0.694118   \n\n     pixel7    pixel8    pixel9  ...  pixel3062  pixel3063  pixel3064  \\\n0  0.188235  0.168627  0.266667  ...   0.407843   0.847059   0.721569   \n1  0.407843  0.372549  0.400000  ...   0.533333   0.560784   0.521569   \n2  0.992157  0.992157  0.992157  ...   0.309804   0.305882   0.333333   \n3  0.137255  0.078431  0.164706  ...   0.149020   0.211765   0.184314   \n4  0.725490  0.796078  0.717647  ...   0.305882   0.294118   0.309804   \n\n   pixel3065  pixel3066  pixel3067  pixel3068  pixel3069  pixel3070  pixel3071  \n0   0.549020   0.592157   0.462745   0.329412   0.482353   0.360784   0.282353  \n1   0.545098   0.560784   0.525490   0.556863   0.560784   0.521569   0.564706  \n2   0.325490   0.309804   0.333333   0.325490   0.313725   0.337255   0.329412  \n3   0.109804   0.247059   0.219608   0.145098   0.282353   0.254902   0.180392  \n4   0.321569   0.278431   0.294118   0.305882   0.286275   0.301961   0.313725  \n\n[5 rows x 3072 columns]",
      "text/html": "<div>\n<style scoped>\n    .dataframe tbody tr th:only-of-type {\n        vertical-align: middle;\n    }\n\n    .dataframe tbody tr th {\n        vertical-align: top;\n    }\n\n    .dataframe thead th {\n        text-align: right;\n    }\n</style>\n<table border=\"1\" class=\"dataframe\">\n  <thead>\n    <tr style=\"text-align: right;\">\n      <th></th>\n      <th>pixel0</th>\n      <th>pixel1</th>\n      <th>pixel2</th>\n      <th>pixel3</th>\n      <th>pixel4</th>\n      <th>pixel5</th>\n      <th>pixel6</th>\n      <th>pixel7</th>\n      <th>pixel8</th>\n      <th>pixel9</th>\n      <th>...</th>\n      <th>pixel3062</th>\n      <th>pixel3063</th>\n      <th>pixel3064</th>\n      <th>pixel3065</th>\n      <th>pixel3066</th>\n      <th>pixel3067</th>\n      <th>pixel3068</th>\n      <th>pixel3069</th>\n      <th>pixel3070</th>\n      <th>pixel3071</th>\n    </tr>\n  </thead>\n  <tbody>\n    <tr>\n      <th>0</th>\n      <td>0.231373</td>\n      <td>0.243137</td>\n      <td>0.247059</td>\n      <td>0.168627</td>\n      <td>0.180392</td>\n      <td>0.176471</td>\n      <td>0.196078</td>\n      <td>0.188235</td>\n      <td>0.168627</td>\n      <td>0.266667</td>\n      <td>...</td>\n      <td>0.407843</td>\n      <td>0.847059</td>\n      <td>0.721569</td>\n      <td>0.549020</td>\n      <td>0.592157</td>\n      <td>0.462745</td>\n      <td>0.329412</td>\n      <td>0.482353</td>\n      <td>0.360784</td>\n      <td>0.282353</td>\n    </tr>\n    <tr>\n      <th>1</th>\n      <td>0.603922</td>\n      <td>0.694118</td>\n      <td>0.733333</td>\n      <td>0.494118</td>\n      <td>0.537255</td>\n      <td>0.533333</td>\n      <td>0.411765</td>\n      <td>0.407843</td>\n      <td>0.372549</td>\n      <td>0.400000</td>\n      <td>...</td>\n      <td>0.533333</td>\n      <td>0.560784</td>\n      <td>0.521569</td>\n      <td>0.545098</td>\n      <td>0.560784</td>\n      <td>0.525490</td>\n      <td>0.556863</td>\n      <td>0.560784</td>\n      <td>0.521569</td>\n      <td>0.564706</td>\n    </tr>\n    <tr>\n      <th>2</th>\n      <td>1.000000</td>\n      <td>1.000000</td>\n      <td>1.000000</td>\n      <td>0.992157</td>\n      <td>0.992157</td>\n      <td>0.992157</td>\n      <td>0.992157</td>\n      <td>0.992157</td>\n      <td>0.992157</td>\n      <td>0.992157</td>\n      <td>...</td>\n      <td>0.309804</td>\n      <td>0.305882</td>\n      <td>0.333333</td>\n      <td>0.325490</td>\n      <td>0.309804</td>\n      <td>0.333333</td>\n      <td>0.325490</td>\n      <td>0.313725</td>\n      <td>0.337255</td>\n      <td>0.329412</td>\n    </tr>\n    <tr>\n      <th>3</th>\n      <td>0.109804</td>\n      <td>0.098039</td>\n      <td>0.039216</td>\n      <td>0.145098</td>\n      <td>0.133333</td>\n      <td>0.074510</td>\n      <td>0.149020</td>\n      <td>0.137255</td>\n      <td>0.078431</td>\n      <td>0.164706</td>\n      <td>...</td>\n      <td>0.149020</td>\n      <td>0.211765</td>\n      <td>0.184314</td>\n      <td>0.109804</td>\n      <td>0.247059</td>\n      <td>0.219608</td>\n      <td>0.145098</td>\n      <td>0.282353</td>\n      <td>0.254902</td>\n      <td>0.180392</td>\n    </tr>\n    <tr>\n      <th>4</th>\n      <td>0.666667</td>\n      <td>0.705882</td>\n      <td>0.776471</td>\n      <td>0.658824</td>\n      <td>0.698039</td>\n      <td>0.768627</td>\n      <td>0.694118</td>\n      <td>0.725490</td>\n      <td>0.796078</td>\n      <td>0.717647</td>\n      <td>...</td>\n      <td>0.305882</td>\n      <td>0.294118</td>\n      <td>0.309804</td>\n      <td>0.321569</td>\n      <td>0.278431</td>\n      <td>0.294118</td>\n      <td>0.305882</td>\n      <td>0.286275</td>\n      <td>0.301961</td>\n      <td>0.313725</td>\n    </tr>\n  </tbody>\n</table>\n<p>5 rows × 3072 columns</p>\n</div>"
     },
     "metadata": {},
     "output_type": "execute_result",
     "execution_count": 13
    }
   ],
   "source": [
    "\n",
    "# Examine the new DataFrame\n",
    "cifar_df.head()\n"
   ],
   "metadata": {
    "collapsed": false,
    "pycharm": {
     "name": "#%%\n",
     "is_executing": false
    }
   }
  },
  {
   "cell_type": "code",
   "execution_count": 15,
   "outputs": [],
   "source": [
    "\n",
    "# Append the ground-truth labels (see $labels) to each image\n",
    "cifar_df['label'] = y_train\n"
   ],
   "metadata": {
    "collapsed": false,
    "pycharm": {
     "name": "#%%\n",
     "is_executing": false
    }
   }
  },
  {
   "cell_type": "code",
   "execution_count": 16,
   "outputs": [
    {
     "name": "stdout",
     "text": [
      "df_cifar shape: (50000, 3073)\n"
     ],
     "output_type": "stream"
    }
   ],
   "source": [
    "\n",
    "# Examine the current size of the DataFrame\n",
    "print('cifar_df shape:', cifar_df.shape)\n"
   ],
   "metadata": {
    "collapsed": false,
    "pycharm": {
     "name": "#%%\n",
     "is_executing": false
    }
   }
  },
  {
   "cell_type": "code",
   "execution_count": 23,
   "outputs": [
    {
     "name": "stdout",
     "text": [
      "[[ -6.40101763   2.72903865   1.50171198]\n [  0.82978338  -0.94994346   6.0037482 ]\n [  7.73019978 -11.522102    -2.75361019]\n ...\n [  0.70734659 -11.34252125  -0.39391056]\n [ 11.36790901  -3.37597755   5.56618655]\n [  4.19279645  -1.18418879  -4.44596556]]\n"
     ],
     "output_type": "stream"
    }
   ],
   "source": [
    "\n",
    "# Apply PCA\n",
    "pca_cifar = PCA(n_components = 3)\n"
   ],
   "metadata": {
    "collapsed": false,
    "pycharm": {
     "name": "#%%\n",
     "is_executing": false
    }
   }
  },
  {
   "cell_type": "code",
   "execution_count": 31,
   "outputs": [],
   "source": [
    "\n",
    "# Standardize the PCA results\n",
    "principal_components = pca_cifar.fit_transform(cifar_df.iloc[:,:-1])\n"
   ],
   "metadata": {
    "collapsed": false,
    "pycharm": {
     "name": "#%%\n",
     "is_executing": false
    }
   }
  },
  {
   "cell_type": "code",
   "execution_count": 32,
   "outputs": [],
   "source": [
    "\n",
    "# Create a DataFrame with the 3 Principal Components as labels\n",
    "principal_df = pd.DataFrame(data = principal_components,\n",
    "                            columns = ['PC1', 'PC2', 'PC3'])\n"
   ],
   "metadata": {
    "collapsed": false,
    "pycharm": {
     "name": "#%%\n",
     "is_executing": false
    }
   }
  },
  {
   "cell_type": "code",
   "execution_count": 33,
   "outputs": [],
   "source": [
    "\n",
    "# Append the ground truth to the new DataFrame\n",
    "principal_df['y'] = y_train\n"
   ],
   "metadata": {
    "collapsed": false,
    "pycharm": {
     "name": "#%%\n",
     "is_executing": false
    }
   }
  },
  {
   "cell_type": "code",
   "execution_count": 34,
   "outputs": [
    {
     "data": {
      "text/plain": "         PC1        PC2       PC3  y\n0  -6.401018   2.729039  1.501708  6\n1   0.829783  -0.949943  6.003746  9\n2   7.730200 -11.522102 -2.753620  9\n3 -10.347817   0.010738  1.101016  4\n4  -2.625651  -4.969240  1.034598  1",
      "text/html": "<div>\n<style scoped>\n    .dataframe tbody tr th:only-of-type {\n        vertical-align: middle;\n    }\n\n    .dataframe tbody tr th {\n        vertical-align: top;\n    }\n\n    .dataframe thead th {\n        text-align: right;\n    }\n</style>\n<table border=\"1\" class=\"dataframe\">\n  <thead>\n    <tr style=\"text-align: right;\">\n      <th></th>\n      <th>PC1</th>\n      <th>PC2</th>\n      <th>PC3</th>\n      <th>y</th>\n    </tr>\n  </thead>\n  <tbody>\n    <tr>\n      <th>0</th>\n      <td>-6.401018</td>\n      <td>2.729039</td>\n      <td>1.501708</td>\n      <td>6</td>\n    </tr>\n    <tr>\n      <th>1</th>\n      <td>0.829783</td>\n      <td>-0.949943</td>\n      <td>6.003746</td>\n      <td>9</td>\n    </tr>\n    <tr>\n      <th>2</th>\n      <td>7.730200</td>\n      <td>-11.522102</td>\n      <td>-2.753620</td>\n      <td>9</td>\n    </tr>\n    <tr>\n      <th>3</th>\n      <td>-10.347817</td>\n      <td>0.010738</td>\n      <td>1.101016</td>\n      <td>4</td>\n    </tr>\n    <tr>\n      <th>4</th>\n      <td>-2.625651</td>\n      <td>-4.969240</td>\n      <td>1.034598</td>\n      <td>1</td>\n    </tr>\n  </tbody>\n</table>\n</div>"
     },
     "metadata": {},
     "output_type": "execute_result",
     "execution_count": 34
    }
   ],
   "source": [
    "\n",
    "# Examine the DataFrame of Principal Components (n = 3)\n",
    "principal_df.head()\n"
   ],
   "metadata": {
    "collapsed": false,
    "pycharm": {
     "name": "#%%\n",
     "is_executing": false
    }
   }
  },
  {
   "cell_type": "code",
   "execution_count": 35,
   "outputs": [
    {
     "name": "stdout",
     "text": [
      "Variation (in percentage) per principal component: [0.2907663  0.11253144 0.06694414]\n"
     ],
     "output_type": "stream"
    }
   ],
   "source": [
    "\n",
    "# Examine the variation each PC holds\n",
    "print('Variation (in percentage) per principal component: {}'.format(pca_cifar.explained_variance_ratio_))\n"
   ],
   "metadata": {
    "collapsed": false,
    "pycharm": {
     "name": "#%%\n",
     "is_executing": false
    }
   }
  },
  {
   "cell_type": "code",
   "execution_count": null,
   "outputs": [],
   "source": [
    "\n",
    "# Scatterplot the data\n",
    "plt.figure(figsize = (15, 10))\n",
    "sns.scatterplot(\n",
    "    x = 'PC1', y = 'PC2'\n",
    ")"
   ],
   "metadata": {
    "collapsed": false,
    "pycharm": {
     "name": "#%%\n"
    }
   }
  }
 ],
 "metadata": {
  "kernelspec": {
   "name": "pycharm-337cadca",
   "language": "python",
   "display_name": "PyCharm (machine-learning)"
  },
  "language_info": {
   "codemirror_mode": {
    "name": "ipython",
    "version": 3
   },
   "file_extension": ".py",
   "mimetype": "text/x-python",
   "name": "python",
   "nbconvert_exporter": "python",
   "pygments_lexer": "ipython3",
   "version": "3.6.8"
  },
  "pycharm": {
   "stem_cell": {
    "cell_type": "raw",
    "source": [],
    "metadata": {
     "collapsed": false
    }
   }
  }
 },
 "nbformat": 4,
 "nbformat_minor": 1
}